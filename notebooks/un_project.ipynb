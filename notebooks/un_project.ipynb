{
 "cells": [
  {
   "cell_type": "code",
   "execution_count": 1,
   "id": "5aa438d7-54c9-4d1c-8c1e-612fd9c6debb",
   "metadata": {},
   "outputs": [],
   "source": [
    "import pandas as pd\n",
    "import numpy as np\n",
    "import matplotlib.pyplot as plt\n",
    "import seaborn as sns"
   ]
  },
  {
   "cell_type": "code",
   "execution_count": 2,
   "id": "9d49730c-71ee-4a1c-b157-2dfec381876b",
   "metadata": {},
   "outputs": [
    {
     "data": {
      "text/html": [
       "<div>\n",
       "<style scoped>\n",
       "    .dataframe tbody tr th:only-of-type {\n",
       "        vertical-align: middle;\n",
       "    }\n",
       "\n",
       "    .dataframe tbody tr th {\n",
       "        vertical-align: top;\n",
       "    }\n",
       "\n",
       "    .dataframe thead th {\n",
       "        text-align: right;\n",
       "    }\n",
       "</style>\n",
       "<table border=\"1\" class=\"dataframe\">\n",
       "  <thead>\n",
       "    <tr style=\"text-align: right;\">\n",
       "      <th></th>\n",
       "      <th>Country or Area</th>\n",
       "      <th>Year</th>\n",
       "      <th>Value</th>\n",
       "      <th>Value Footnotes</th>\n",
       "    </tr>\n",
       "  </thead>\n",
       "  <tbody>\n",
       "    <tr>\n",
       "      <th>0</th>\n",
       "      <td>Afghanistan</td>\n",
       "      <td>2023</td>\n",
       "      <td>1992.424394</td>\n",
       "      <td>NaN</td>\n",
       "    </tr>\n",
       "    <tr>\n",
       "      <th>1</th>\n",
       "      <td>Afghanistan</td>\n",
       "      <td>2022</td>\n",
       "      <td>1981.710168</td>\n",
       "      <td>NaN</td>\n",
       "    </tr>\n",
       "    <tr>\n",
       "      <th>2</th>\n",
       "      <td>Afghanistan</td>\n",
       "      <td>2021</td>\n",
       "      <td>2144.166570</td>\n",
       "      <td>NaN</td>\n",
       "    </tr>\n",
       "    <tr>\n",
       "      <th>3</th>\n",
       "      <td>Afghanistan</td>\n",
       "      <td>2020</td>\n",
       "      <td>2769.685745</td>\n",
       "      <td>NaN</td>\n",
       "    </tr>\n",
       "    <tr>\n",
       "      <th>4</th>\n",
       "      <td>Afghanistan</td>\n",
       "      <td>2019</td>\n",
       "      <td>2927.245144</td>\n",
       "      <td>NaN</td>\n",
       "    </tr>\n",
       "    <tr>\n",
       "      <th>...</th>\n",
       "      <td>...</td>\n",
       "      <td>...</td>\n",
       "      <td>...</td>\n",
       "      <td>...</td>\n",
       "    </tr>\n",
       "    <tr>\n",
       "      <th>8214</th>\n",
       "      <td>Zimbabwe</td>\n",
       "      <td>1994</td>\n",
       "      <td>3965.730986</td>\n",
       "      <td>NaN</td>\n",
       "    </tr>\n",
       "    <tr>\n",
       "      <th>8215</th>\n",
       "      <td>Zimbabwe</td>\n",
       "      <td>1993</td>\n",
       "      <td>3634.750494</td>\n",
       "      <td>NaN</td>\n",
       "    </tr>\n",
       "    <tr>\n",
       "      <th>8216</th>\n",
       "      <td>Zimbabwe</td>\n",
       "      <td>1992</td>\n",
       "      <td>3649.891947</td>\n",
       "      <td>NaN</td>\n",
       "    </tr>\n",
       "    <tr>\n",
       "      <th>8217</th>\n",
       "      <td>Zimbabwe</td>\n",
       "      <td>1991</td>\n",
       "      <td>4126.405247</td>\n",
       "      <td>NaN</td>\n",
       "    </tr>\n",
       "    <tr>\n",
       "      <th>8218</th>\n",
       "      <td>Zimbabwe</td>\n",
       "      <td>1990</td>\n",
       "      <td>4013.299059</td>\n",
       "      <td>NaN</td>\n",
       "    </tr>\n",
       "  </tbody>\n",
       "</table>\n",
       "<p>8219 rows × 4 columns</p>\n",
       "</div>"
      ],
      "text/plain": [
       "     Country or Area  Year        Value  Value Footnotes\n",
       "0        Afghanistan  2023  1992.424394              NaN\n",
       "1        Afghanistan  2022  1981.710168              NaN\n",
       "2        Afghanistan  2021  2144.166570              NaN\n",
       "3        Afghanistan  2020  2769.685745              NaN\n",
       "4        Afghanistan  2019  2927.245144              NaN\n",
       "...              ...   ...          ...              ...\n",
       "8214        Zimbabwe  1994  3965.730986              NaN\n",
       "8215        Zimbabwe  1993  3634.750494              NaN\n",
       "8216        Zimbabwe  1992  3649.891947              NaN\n",
       "8217        Zimbabwe  1991  4126.405247              NaN\n",
       "8218        Zimbabwe  1990  4013.299059              NaN\n",
       "\n",
       "[8219 rows x 4 columns]"
      ]
     },
     "execution_count": 2,
     "metadata": {},
     "output_type": "execute_result"
    }
   ],
   "source": [
    "pd.read_csv('../data/gdp_percapita.csv')"
   ]
  },
  {
   "cell_type": "markdown",
   "id": "2938cccb-23b3-47d4-bc8b-e841560281c3",
   "metadata": {},
   "source": [
    "### Q. 4 Using the pandas `read_csv()` method, read the GDP dataset into your notebook as a DataFrame called `gdp_df`. Take a look at the first few and last few rows to familiarize yourself with what is contained in this dataset."
   ]
  },
  {
   "cell_type": "code",
   "execution_count": 3,
   "id": "59708230-771d-471b-956d-a991b7690d2e",
   "metadata": {},
   "outputs": [
    {
     "data": {
      "text/html": [
       "<div>\n",
       "<style scoped>\n",
       "    .dataframe tbody tr th:only-of-type {\n",
       "        vertical-align: middle;\n",
       "    }\n",
       "\n",
       "    .dataframe tbody tr th {\n",
       "        vertical-align: top;\n",
       "    }\n",
       "\n",
       "    .dataframe thead th {\n",
       "        text-align: right;\n",
       "    }\n",
       "</style>\n",
       "<table border=\"1\" class=\"dataframe\">\n",
       "  <thead>\n",
       "    <tr style=\"text-align: right;\">\n",
       "      <th></th>\n",
       "      <th>Country or Area</th>\n",
       "      <th>Year</th>\n",
       "      <th>Value</th>\n",
       "      <th>Value Footnotes</th>\n",
       "    </tr>\n",
       "  </thead>\n",
       "  <tbody>\n",
       "    <tr>\n",
       "      <th>0</th>\n",
       "      <td>Afghanistan</td>\n",
       "      <td>2023</td>\n",
       "      <td>1992.424394</td>\n",
       "      <td>NaN</td>\n",
       "    </tr>\n",
       "    <tr>\n",
       "      <th>1</th>\n",
       "      <td>Afghanistan</td>\n",
       "      <td>2022</td>\n",
       "      <td>1981.710168</td>\n",
       "      <td>NaN</td>\n",
       "    </tr>\n",
       "    <tr>\n",
       "      <th>2</th>\n",
       "      <td>Afghanistan</td>\n",
       "      <td>2021</td>\n",
       "      <td>2144.166570</td>\n",
       "      <td>NaN</td>\n",
       "    </tr>\n",
       "    <tr>\n",
       "      <th>3</th>\n",
       "      <td>Afghanistan</td>\n",
       "      <td>2020</td>\n",
       "      <td>2769.685745</td>\n",
       "      <td>NaN</td>\n",
       "    </tr>\n",
       "    <tr>\n",
       "      <th>4</th>\n",
       "      <td>Afghanistan</td>\n",
       "      <td>2019</td>\n",
       "      <td>2927.245144</td>\n",
       "      <td>NaN</td>\n",
       "    </tr>\n",
       "  </tbody>\n",
       "</table>\n",
       "</div>"
      ],
      "text/plain": [
       "  Country or Area  Year        Value  Value Footnotes\n",
       "0     Afghanistan  2023  1992.424394              NaN\n",
       "1     Afghanistan  2022  1981.710168              NaN\n",
       "2     Afghanistan  2021  2144.166570              NaN\n",
       "3     Afghanistan  2020  2769.685745              NaN\n",
       "4     Afghanistan  2019  2927.245144              NaN"
      ]
     },
     "execution_count": 3,
     "metadata": {},
     "output_type": "execute_result"
    }
   ],
   "source": [
    "gdp_df = pd.read_csv('../data/gdp_percapita.csv')\n",
    "gdp_df.head()"
   ]
  },
  {
   "cell_type": "code",
   "execution_count": 4,
   "id": "830f8fa6-b348-4363-b5c1-937d7d3b4d4f",
   "metadata": {},
   "outputs": [
    {
     "data": {
      "text/html": [
       "<div>\n",
       "<style scoped>\n",
       "    .dataframe tbody tr th:only-of-type {\n",
       "        vertical-align: middle;\n",
       "    }\n",
       "\n",
       "    .dataframe tbody tr th {\n",
       "        vertical-align: top;\n",
       "    }\n",
       "\n",
       "    .dataframe thead th {\n",
       "        text-align: right;\n",
       "    }\n",
       "</style>\n",
       "<table border=\"1\" class=\"dataframe\">\n",
       "  <thead>\n",
       "    <tr style=\"text-align: right;\">\n",
       "      <th></th>\n",
       "      <th>Country or Area</th>\n",
       "      <th>Year</th>\n",
       "      <th>Value</th>\n",
       "      <th>Value Footnotes</th>\n",
       "    </tr>\n",
       "  </thead>\n",
       "  <tbody>\n",
       "    <tr>\n",
       "      <th>8214</th>\n",
       "      <td>Zimbabwe</td>\n",
       "      <td>1994</td>\n",
       "      <td>3965.730986</td>\n",
       "      <td>NaN</td>\n",
       "    </tr>\n",
       "    <tr>\n",
       "      <th>8215</th>\n",
       "      <td>Zimbabwe</td>\n",
       "      <td>1993</td>\n",
       "      <td>3634.750494</td>\n",
       "      <td>NaN</td>\n",
       "    </tr>\n",
       "    <tr>\n",
       "      <th>8216</th>\n",
       "      <td>Zimbabwe</td>\n",
       "      <td>1992</td>\n",
       "      <td>3649.891947</td>\n",
       "      <td>NaN</td>\n",
       "    </tr>\n",
       "    <tr>\n",
       "      <th>8217</th>\n",
       "      <td>Zimbabwe</td>\n",
       "      <td>1991</td>\n",
       "      <td>4126.405247</td>\n",
       "      <td>NaN</td>\n",
       "    </tr>\n",
       "    <tr>\n",
       "      <th>8218</th>\n",
       "      <td>Zimbabwe</td>\n",
       "      <td>1990</td>\n",
       "      <td>4013.299059</td>\n",
       "      <td>NaN</td>\n",
       "    </tr>\n",
       "  </tbody>\n",
       "</table>\n",
       "</div>"
      ],
      "text/plain": [
       "     Country or Area  Year        Value  Value Footnotes\n",
       "8214        Zimbabwe  1994  3965.730986              NaN\n",
       "8215        Zimbabwe  1993  3634.750494              NaN\n",
       "8216        Zimbabwe  1992  3649.891947              NaN\n",
       "8217        Zimbabwe  1991  4126.405247              NaN\n",
       "8218        Zimbabwe  1990  4013.299059              NaN"
      ]
     },
     "execution_count": 4,
     "metadata": {},
     "output_type": "execute_result"
    }
   ],
   "source": [
    "gdp_df.tail()"
   ]
  },
  {
   "cell_type": "markdown",
   "id": "2731fdcf-01ef-4273-9730-90abc80a5f2c",
   "metadata": {},
   "source": [
    "### Q. 5 How many rows and columns are in `gdp_df`? What are the data types of each column?"
   ]
  },
  {
   "cell_type": "code",
   "execution_count": 5,
   "id": "319ced07-ed61-47b3-a145-c0bcdbdba622",
   "metadata": {},
   "outputs": [
    {
     "data": {
      "text/plain": [
       "(8219, 4)"
      ]
     },
     "execution_count": 5,
     "metadata": {},
     "output_type": "execute_result"
    }
   ],
   "source": [
    "gdp_df.shape"
   ]
  },
  {
   "cell_type": "code",
   "execution_count": 6,
   "id": "2061d5fe-acaa-4aa8-9fbf-3de9aabb2d60",
   "metadata": {},
   "outputs": [
    {
     "data": {
      "text/plain": [
       "<bound method DataFrame.info of      Country or Area  Year        Value  Value Footnotes\n",
       "0        Afghanistan  2023  1992.424394              NaN\n",
       "1        Afghanistan  2022  1981.710168              NaN\n",
       "2        Afghanistan  2021  2144.166570              NaN\n",
       "3        Afghanistan  2020  2769.685745              NaN\n",
       "4        Afghanistan  2019  2927.245144              NaN\n",
       "...              ...   ...          ...              ...\n",
       "8214        Zimbabwe  1994  3965.730986              NaN\n",
       "8215        Zimbabwe  1993  3634.750494              NaN\n",
       "8216        Zimbabwe  1992  3649.891947              NaN\n",
       "8217        Zimbabwe  1991  4126.405247              NaN\n",
       "8218        Zimbabwe  1990  4013.299059              NaN\n",
       "\n",
       "[8219 rows x 4 columns]>"
      ]
     },
     "execution_count": 6,
     "metadata": {},
     "output_type": "execute_result"
    }
   ],
   "source": [
    "gdp_df.info"
   ]
  },
  {
   "cell_type": "markdown",
   "id": "42c1be6b-1dd1-44cb-8ff9-3b397e5bb4d0",
   "metadata": {},
   "source": [
    "### Q. 6 Drop the `Value Footnotes` column and rename the remaining three to 'Country', 'Year', and 'GDP_Per_Capita'."
   ]
  },
  {
   "cell_type": "code",
   "execution_count": 7,
   "id": "3593893e-0320-4c76-800f-c4c196be9750",
   "metadata": {},
   "outputs": [],
   "source": [
    "gdp_df = gdp_df.drop(columns = ['Value Footnotes'])"
   ]
  },
  {
   "cell_type": "code",
   "execution_count": 8,
   "id": "bbddaeb1-72ed-4bd0-a510-88d1386a1c59",
   "metadata": {},
   "outputs": [],
   "source": [
    "gdp_df = gdp_df.rename(columns = {'Country or Area': 'Country', 'Year':'Year', 'Value': 'GDP_Per_Capita'})"
   ]
  },
  {
   "cell_type": "code",
   "execution_count": 9,
   "id": "0581f699-ce1c-4e87-8f18-31d4de91d400",
   "metadata": {},
   "outputs": [
    {
     "data": {
      "text/html": [
       "<div>\n",
       "<style scoped>\n",
       "    .dataframe tbody tr th:only-of-type {\n",
       "        vertical-align: middle;\n",
       "    }\n",
       "\n",
       "    .dataframe tbody tr th {\n",
       "        vertical-align: top;\n",
       "    }\n",
       "\n",
       "    .dataframe thead th {\n",
       "        text-align: right;\n",
       "    }\n",
       "</style>\n",
       "<table border=\"1\" class=\"dataframe\">\n",
       "  <thead>\n",
       "    <tr style=\"text-align: right;\">\n",
       "      <th></th>\n",
       "      <th>Country</th>\n",
       "      <th>Year</th>\n",
       "      <th>GDP_Per_Capita</th>\n",
       "    </tr>\n",
       "  </thead>\n",
       "  <tbody>\n",
       "    <tr>\n",
       "      <th>0</th>\n",
       "      <td>Afghanistan</td>\n",
       "      <td>2023</td>\n",
       "      <td>1992.424394</td>\n",
       "    </tr>\n",
       "    <tr>\n",
       "      <th>1</th>\n",
       "      <td>Afghanistan</td>\n",
       "      <td>2022</td>\n",
       "      <td>1981.710168</td>\n",
       "    </tr>\n",
       "    <tr>\n",
       "      <th>2</th>\n",
       "      <td>Afghanistan</td>\n",
       "      <td>2021</td>\n",
       "      <td>2144.166570</td>\n",
       "    </tr>\n",
       "    <tr>\n",
       "      <th>3</th>\n",
       "      <td>Afghanistan</td>\n",
       "      <td>2020</td>\n",
       "      <td>2769.685745</td>\n",
       "    </tr>\n",
       "    <tr>\n",
       "      <th>4</th>\n",
       "      <td>Afghanistan</td>\n",
       "      <td>2019</td>\n",
       "      <td>2927.245144</td>\n",
       "    </tr>\n",
       "    <tr>\n",
       "      <th>...</th>\n",
       "      <td>...</td>\n",
       "      <td>...</td>\n",
       "      <td>...</td>\n",
       "    </tr>\n",
       "    <tr>\n",
       "      <th>8214</th>\n",
       "      <td>Zimbabwe</td>\n",
       "      <td>1994</td>\n",
       "      <td>3965.730986</td>\n",
       "    </tr>\n",
       "    <tr>\n",
       "      <th>8215</th>\n",
       "      <td>Zimbabwe</td>\n",
       "      <td>1993</td>\n",
       "      <td>3634.750494</td>\n",
       "    </tr>\n",
       "    <tr>\n",
       "      <th>8216</th>\n",
       "      <td>Zimbabwe</td>\n",
       "      <td>1992</td>\n",
       "      <td>3649.891947</td>\n",
       "    </tr>\n",
       "    <tr>\n",
       "      <th>8217</th>\n",
       "      <td>Zimbabwe</td>\n",
       "      <td>1991</td>\n",
       "      <td>4126.405247</td>\n",
       "    </tr>\n",
       "    <tr>\n",
       "      <th>8218</th>\n",
       "      <td>Zimbabwe</td>\n",
       "      <td>1990</td>\n",
       "      <td>4013.299059</td>\n",
       "    </tr>\n",
       "  </tbody>\n",
       "</table>\n",
       "<p>8219 rows × 3 columns</p>\n",
       "</div>"
      ],
      "text/plain": [
       "          Country  Year  GDP_Per_Capita\n",
       "0     Afghanistan  2023     1992.424394\n",
       "1     Afghanistan  2022     1981.710168\n",
       "2     Afghanistan  2021     2144.166570\n",
       "3     Afghanistan  2020     2769.685745\n",
       "4     Afghanistan  2019     2927.245144\n",
       "...           ...   ...             ...\n",
       "8214     Zimbabwe  1994     3965.730986\n",
       "8215     Zimbabwe  1993     3634.750494\n",
       "8216     Zimbabwe  1992     3649.891947\n",
       "8217     Zimbabwe  1991     4126.405247\n",
       "8218     Zimbabwe  1990     4013.299059\n",
       "\n",
       "[8219 rows x 3 columns]"
      ]
     },
     "execution_count": 9,
     "metadata": {},
     "output_type": "execute_result"
    }
   ],
   "source": [
    "gdp_df"
   ]
  },
  {
   "cell_type": "markdown",
   "id": "6736f538-8d96-441c-8b81-1bae3237e386",
   "metadata": {},
   "source": [
    "### Q. 7 How many countries have data for all years? Which countries are missing many years of data? Look at the number of observations per year. What do you notice?"
   ]
  },
  {
   "cell_type": "code",
   "execution_count": 10,
   "id": "e6fd33c4-41bb-43c6-8e21-7536bf3ce600",
   "metadata": {},
   "outputs": [
    {
     "data": {
      "text/plain": [
       "34"
      ]
     },
     "execution_count": 10,
     "metadata": {},
     "output_type": "execute_result"
    }
   ],
   "source": [
    "gdp_df['Year'].nunique()"
   ]
  },
  {
   "cell_type": "code",
   "execution_count": 11,
   "id": "f1e7e89e-b5fa-4b26-84ce-bdfc557365ca",
   "metadata": {},
   "outputs": [],
   "source": [
    "gdp_country_count = gdp_df['Country'].value_counts().to_frame().reset_index()"
   ]
  },
  {
   "cell_type": "code",
   "execution_count": 12,
   "id": "84d0efe2-40d0-43a7-a3c6-5cb4a9bf5f7f",
   "metadata": {},
   "outputs": [
    {
     "data": {
      "text/plain": [
       "228"
      ]
     },
     "execution_count": 12,
     "metadata": {},
     "output_type": "execute_result"
    }
   ],
   "source": [
    "len(gdp_country_count.loc[gdp_country_count['count'] == gdp_df['Year'].nunique()])"
   ]
  },
  {
   "cell_type": "code",
   "execution_count": 13,
   "id": "25e5c0be-c285-4910-ab22-953d76d79ffa",
   "metadata": {},
   "outputs": [
    {
     "data": {
      "text/plain": [
       "19"
      ]
     },
     "execution_count": 13,
     "metadata": {},
     "output_type": "execute_result"
    }
   ],
   "source": [
    "len(gdp_country_count.loc[gdp_country_count['count'] != gdp_df['Year'].nunique()])"
   ]
  },
  {
   "cell_type": "markdown",
   "id": "c84d391d-975c-4f67-8604-d8f86bb2a28a",
   "metadata": {},
   "source": [
    "### Q.8 In this question, you're going to create some plots to show the distribution of GDP per capita for the year 2020. Go to the Python Graph Gallery (https://www.python-graph-gallery.com/) and look at the different types of plots under the Distribution section. Create a histogram, a density plot, a boxplot, and a violin plot. What do you notice when you look at these plots? How do the plots compare and what information can you get out of one type that you can't necessarily get out of the others?"
   ]
  },
  {
   "cell_type": "code",
   "execution_count": null,
   "id": "db3e0c82-a1d6-4530-a7d6-dd814ff92b4f",
   "metadata": {},
   "outputs": [],
   "source": [
    "gdp_2020 = gdp_df.loc[(gdp_df.Year == 2020)]"
   ]
  },
  {
   "cell_type": "code",
   "execution_count": null,
   "id": "68d8f934-11f6-439d-92da-12f91ade01f4",
   "metadata": {},
   "outputs": [],
   "source": [
    "gdp_2020"
   ]
  },
  {
   "cell_type": "code",
   "execution_count": null,
   "id": "d1947ef2-8d36-4d31-a283-c5cfb58f39c5",
   "metadata": {},
   "outputs": [],
   "source": [
    "gdp_2020['GDP_Per_Capita'].hist(bins = 12, color = 'green', edgecolor = 'black', figsize = (9,4))\n",
    "\n",
    "plt.title('GDP_Per_Capita', fontsize = 12);"
   ]
  },
  {
   "cell_type": "code",
   "execution_count": null,
   "id": "f1c496ef-263f-4e9a-b589-e6dd14bb67a2",
   "metadata": {},
   "outputs": [],
   "source": [
    "gdp_2020.hist('GDP_Per_Capita');"
   ]
  },
  {
   "cell_type": "code",
   "execution_count": null,
   "id": "a44cb21c-6a39-4ea1-b8ae-168c199d0abd",
   "metadata": {},
   "outputs": [],
   "source": [
    "sns.boxplot(data = gdp_2020, x = 'GDP_Per_Capita');"
   ]
  },
  {
   "cell_type": "code",
   "execution_count": null,
   "id": "d0c8cd8f-73e0-4fde-8b57-5b47e07e519a",
   "metadata": {},
   "outputs": [],
   "source": [
    "sns.violinplot(data = gdp_2020, x = 'GDP_Per_Capita');"
   ]
  },
  {
   "cell_type": "code",
   "execution_count": null,
   "id": "888402e6-e074-4773-8363-7b49f8d94bd4",
   "metadata": {},
   "outputs": [],
   "source": [
    "sns.kdeplot(gdp_2020['GDP_Per_Capita'])"
   ]
  },
  {
   "cell_type": "markdown",
   "id": "3866a3f0-262b-4e40-a883-d9eb328bad7c",
   "metadata": {},
   "source": [
    "### Q.9 What was the median GDP per capita value in 2020?"
   ]
  },
  {
   "cell_type": "code",
   "execution_count": null,
   "id": "d5d5feac-b081-4b11-9f95-ff0e2db952dd",
   "metadata": {},
   "outputs": [],
   "source": [
    "gdp_2020['GDP_Per_Capita'].describe()"
   ]
  },
  {
   "cell_type": "code",
   "execution_count": null,
   "id": "810c2ada-178a-4064-8610-40866da40ebb",
   "metadata": {},
   "outputs": [],
   "source": [
    "gdp_2020['GDP_Per_Capita'].median()"
   ]
  },
  {
   "cell_type": "markdown",
   "id": "e43500a3-a3db-4291-ab5b-a04e4cf35374",
   "metadata": {},
   "source": [
    "### Q. 10 For this question, you're going to create some visualizations to compare GDP per capita values for the years 1990, 2000, 2010, and 2020. Start by subsetting your data to just these 4 years into a new DataFrame named gdp_decades. Using this, create the following 4 plots:\n",
    "\t* A boxplot\n",
    "\t* A barplot (check out the Barplot with Seaborn section: https://www.python-graph-gallery.com/barplot/#Seaborn)\n",
    "\t* A scatterplot\n",
    "\t* A scatterplot with a trend line overlaid (see this regplot example: https://www.python-graph-gallery.com/42-custom-linear-regression-fit-seaborn)  "
   ]
  },
  {
   "cell_type": "code",
   "execution_count": null,
   "id": "82e852bf-aa8d-4899-a44e-ca6bb76eac36",
   "metadata": {},
   "outputs": [],
   "source": [
    "gdp_decades = gdp_df.loc[(gdp_df.Year == 1990) | (gdp_df.Year == 2000) | (gdp_df.Year == 2010) | (gdp_df.Year == 2020)]\n",
    "gdp_decades"
   ]
  },
  {
   "cell_type": "code",
   "execution_count": null,
   "id": "17a8a149-9a0b-4563-9154-807492762d2b",
   "metadata": {},
   "outputs": [],
   "source": [
    "sns.boxplot(data = gdp_decades, x = 'Year', y = 'GDP_Per_Capita');"
   ]
  },
  {
   "cell_type": "code",
   "execution_count": null,
   "id": "f05fc5d0-6d0d-4955-a43f-2bbf810e0abf",
   "metadata": {},
   "outputs": [],
   "source": [
    "sns.barplot(data = gdp_decades, x = 'Year', y = 'GDP_Per_Capita');"
   ]
  },
  {
   "cell_type": "code",
   "execution_count": null,
   "id": "d0b4a75f-1847-432a-93fa-7765a01625a9",
   "metadata": {},
   "outputs": [],
   "source": [
    "sns.regplot(data = gdp_decades, x = 'Year', y = 'GDP_Per_Capita', \n",
    "            scatter_kws = {'color' : 'grey', 'alpha' : 0:2})"
   ]
  },
  {
   "cell_type": "code",
   "execution_count": null,
   "id": "2ff2e9c4-5d8e-4980-8730-9ce5c8fb80ee",
   "metadata": {},
   "outputs": [],
   "source": [
    "sns.regplot(x=gdp_decades[\"Year\"], y=gdp_decades[\"GDP_Per_Capita\"],\n",
    "    line_kws={\"color\": \"black\", \"linewidth\":2, 'alpha' : .4});"
   ]
  },
  {
   "cell_type": "code",
   "execution_count": null,
   "id": "b41a551d-f253-472e-ad0e-c4c46b6fd7d8",
   "metadata": {},
   "outputs": [],
   "source": [
    "sns.regplot(data = gdp_decades, x = 'Year', y = 'GDP_Per_Capita', x_jitter = True);"
   ]
  },
  {
   "cell_type": "markdown",
   "id": "228109fe-ee42-42f9-ab57-73cf3e12e553",
   "metadata": {},
   "source": [
    "### Q 11. Which country was the first to have a GDP per capita greater than $100,000?"
   ]
  },
  {
   "cell_type": "code",
   "execution_count": null,
   "id": "9a091d7a-63d1-4e66-9877-2f91cf2bf38f",
   "metadata": {},
   "outputs": [],
   "source": [
    "gdp_df.loc[gdp_df['GDP_Per_Capita'] > 100000].sort_values('Year').head(2).Country"
   ]
  },
  {
   "cell_type": "markdown",
   "id": "536f2b84-bae2-4cd3-880e-0d646bc677a9",
   "metadata": {},
   "source": [
    "### Q 12. Which country had the highest GDP per capita in 2020? Create a plot showing how this country's GDP per capita has changed over the timespan of the dataset"
   ]
  },
  {
   "cell_type": "code",
   "execution_count": null,
   "id": "4199436c-ad6a-442e-9dd8-892568b0ea3c",
   "metadata": {},
   "outputs": [],
   "source": [
    "top_country = gdp_2020.sort_values('GDP_Per_Capita', ascending = False).Country.head(1)"
   ]
  },
  {
   "cell_type": "code",
   "execution_count": null,
   "id": "098917ae-9b76-4c5d-a573-ac2e995fd825",
   "metadata": {},
   "outputs": [],
   "source": [
    "top_over_time = gdp_df.loc[gdp_df.Country.isin(top_country)]"
   ]
  },
  {
   "cell_type": "code",
   "execution_count": null,
   "id": "1529dce1-db5c-4bab-be96-992081be699e",
   "metadata": {},
   "outputs": [],
   "source": [
    "sns.lineplot(data = top_over_time, x = 'Year', y = 'GDP_Per_Capita')"
   ]
  },
  {
   "cell_type": "code",
   "execution_count": null,
   "id": "5c516948-eea3-4629-a318-b3b411b2bc39",
   "metadata": {},
   "outputs": [],
   "source": [
    "gdp_2020.sort_values('GDP_Per_Capita', ascending = False).Country.head(1)"
   ]
  },
  {
   "cell_type": "markdown",
   "id": "05403011-f956-47a2-91b1-43a33cb15c22",
   "metadata": {},
   "source": [
    "### Q. 13 Which country had the lowest GDP per capita in 2020? Create a plot showing how this country's GDP per capita has changed over the timespan of the dataset. **Bonus question:** Is it true in general that coutries had a higher GDP per capita in 2020 than in 1990? Which countries had lower GDP per capita in 2020 than in 1990?"
   ]
  },
  {
   "cell_type": "code",
   "execution_count": null,
   "id": "2ac9c2a2-36c3-4249-8609-d67b91860d7d",
   "metadata": {},
   "outputs": [],
   "source": [
    "lowest_gdp = gdp_2020.sort_values('GDP_Per_Capita').Country.head(1)"
   ]
  },
  {
   "cell_type": "code",
   "execution_count": null,
   "id": "a6dc28f8-a760-40c5-b02d-ac8a57263ada",
   "metadata": {},
   "outputs": [],
   "source": [
    "lowest_over_time = gdp_df.loc[gdp_df.Country.isin(lowest_gdp)]"
   ]
  },
  {
   "cell_type": "code",
   "execution_count": null,
   "id": "57d49608-d45a-45d4-b176-7fb0377df15c",
   "metadata": {},
   "outputs": [],
   "source": [
    "sns.lineplot(data = lowest_over_time, x = 'Year', y = 'GDP_Per_Capita')\n",
    "plt.ylim(bottom = 0)"
   ]
  },
  {
   "cell_type": "markdown",
   "id": "7dffb2a6-9806-4718-8ffb-06078b5b7945",
   "metadata": {},
   "source": [
    "### Q. 14 Read in the internet use dataset into a DataFrame named `internet_df`. You will likely get errors when doing this. Check the arguments for the read_csv function to find ones that can help correct the errors (https://pandas.pydata.org/docs/reference/api/pandas.read_csv.html) Once you are able to read it in, take per a look at the top and bottom few rows to make sure that it has been read in correctly. Also, check the datatypes of the columns."
   ]
  },
  {
   "cell_type": "code",
   "execution_count": 15,
   "id": "a90b5bd5-7a2e-4fe5-bb6c-cb2885c2f92a",
   "metadata": {},
   "outputs": [],
   "source": [
    "internet_df = pd.read_csv('../data/internet_use.csv', nrows = 6083)"
   ]
  },
  {
   "cell_type": "code",
   "execution_count": null,
   "id": "d5bbb548-7051-47cb-8b18-1a5e9101a6e1",
   "metadata": {},
   "outputs": [],
   "source": []
  },
  {
   "cell_type": "code",
   "execution_count": null,
   "id": "6b3496d1-79b4-496d-aa64-2a2d49f3e861",
   "metadata": {},
   "outputs": [],
   "source": []
  },
  {
   "cell_type": "code",
   "execution_count": null,
   "id": "5ad05b2d-d83e-4e76-9c66-52e7e95676bd",
   "metadata": {},
   "outputs": [],
   "source": []
  },
  {
   "cell_type": "markdown",
   "id": "dc08439b-b44e-4c3a-bf63-8d064f41fa6a",
   "metadata": {},
   "source": [
    "### Q. 15  Drop the `Value Footnotes` column and rename the remaining three to 'Country', 'Year', and 'Internet_Users_Pct'."
   ]
  },
  {
   "cell_type": "code",
   "execution_count": 22,
   "id": "4111f997-19b9-4d87-9e55-10977101119b",
   "metadata": {},
   "outputs": [],
   "source": [
    "internet_df = internet_df.drop(columns = ['Value Footnotes'])"
   ]
  },
  {
   "cell_type": "code",
   "execution_count": 23,
   "id": "67b9ea30-0e48-419a-872f-5b48efad4fd2",
   "metadata": {},
   "outputs": [
    {
     "data": {
      "text/html": [
       "<div>\n",
       "<style scoped>\n",
       "    .dataframe tbody tr th:only-of-type {\n",
       "        vertical-align: middle;\n",
       "    }\n",
       "\n",
       "    .dataframe tbody tr th {\n",
       "        vertical-align: top;\n",
       "    }\n",
       "\n",
       "    .dataframe thead th {\n",
       "        text-align: right;\n",
       "    }\n",
       "</style>\n",
       "<table border=\"1\" class=\"dataframe\">\n",
       "  <thead>\n",
       "    <tr style=\"text-align: right;\">\n",
       "      <th></th>\n",
       "      <th>Country or Area</th>\n",
       "      <th>Year</th>\n",
       "      <th>Value</th>\n",
       "    </tr>\n",
       "  </thead>\n",
       "  <tbody>\n",
       "    <tr>\n",
       "      <th>0</th>\n",
       "      <td>Afghanistan</td>\n",
       "      <td>2019</td>\n",
       "      <td>17.600000</td>\n",
       "    </tr>\n",
       "    <tr>\n",
       "      <th>1</th>\n",
       "      <td>Afghanistan</td>\n",
       "      <td>2018</td>\n",
       "      <td>16.800000</td>\n",
       "    </tr>\n",
       "    <tr>\n",
       "      <th>2</th>\n",
       "      <td>Afghanistan</td>\n",
       "      <td>2017</td>\n",
       "      <td>13.500000</td>\n",
       "    </tr>\n",
       "    <tr>\n",
       "      <th>3</th>\n",
       "      <td>Afghanistan</td>\n",
       "      <td>2016</td>\n",
       "      <td>11.000000</td>\n",
       "    </tr>\n",
       "    <tr>\n",
       "      <th>4</th>\n",
       "      <td>Afghanistan</td>\n",
       "      <td>2015</td>\n",
       "      <td>8.260000</td>\n",
       "    </tr>\n",
       "    <tr>\n",
       "      <th>...</th>\n",
       "      <td>...</td>\n",
       "      <td>...</td>\n",
       "      <td>...</td>\n",
       "    </tr>\n",
       "    <tr>\n",
       "      <th>6078</th>\n",
       "      <td>Zimbabwe</td>\n",
       "      <td>1997</td>\n",
       "      <td>0.033080</td>\n",
       "    </tr>\n",
       "    <tr>\n",
       "      <th>6079</th>\n",
       "      <td>Zimbabwe</td>\n",
       "      <td>1996</td>\n",
       "      <td>0.016790</td>\n",
       "    </tr>\n",
       "    <tr>\n",
       "      <th>6080</th>\n",
       "      <td>Zimbabwe</td>\n",
       "      <td>1995</td>\n",
       "      <td>0.007684</td>\n",
       "    </tr>\n",
       "    <tr>\n",
       "      <th>6081</th>\n",
       "      <td>Zimbabwe</td>\n",
       "      <td>1994</td>\n",
       "      <td>0.001739</td>\n",
       "    </tr>\n",
       "    <tr>\n",
       "      <th>6082</th>\n",
       "      <td>Zimbabwe</td>\n",
       "      <td>1990</td>\n",
       "      <td>0.000000</td>\n",
       "    </tr>\n",
       "  </tbody>\n",
       "</table>\n",
       "<p>6083 rows × 3 columns</p>\n",
       "</div>"
      ],
      "text/plain": [
       "     Country or Area  Year      Value\n",
       "0        Afghanistan  2019  17.600000\n",
       "1        Afghanistan  2018  16.800000\n",
       "2        Afghanistan  2017  13.500000\n",
       "3        Afghanistan  2016  11.000000\n",
       "4        Afghanistan  2015   8.260000\n",
       "...              ...   ...        ...\n",
       "6078        Zimbabwe  1997   0.033080\n",
       "6079        Zimbabwe  1996   0.016790\n",
       "6080        Zimbabwe  1995   0.007684\n",
       "6081        Zimbabwe  1994   0.001739\n",
       "6082        Zimbabwe  1990   0.000000\n",
       "\n",
       "[6083 rows x 3 columns]"
      ]
     },
     "execution_count": 23,
     "metadata": {},
     "output_type": "execute_result"
    }
   ],
   "source": [
    "internet_df"
   ]
  },
  {
   "cell_type": "code",
   "execution_count": 26,
   "id": "6e03f843-8c00-43d2-9cac-fd22a1631963",
   "metadata": {},
   "outputs": [],
   "source": [
    "internet_df = internet_df.rename(columns = {'Country or Area' : 'Country', 'Value' : 'Internet_Users_Pct'})"
   ]
  },
  {
   "cell_type": "code",
   "execution_count": 27,
   "id": "cdf33c91-ca6f-48a1-a94d-e065a056c35e",
   "metadata": {},
   "outputs": [],
   "source": [
    "gdp_and_internet_use = pd.merge(gdp_df, internet_df, on = ['Country', 'Year'])"
   ]
  },
  {
   "cell_type": "code",
   "execution_count": null,
   "id": "a2d6b378-ab22-4119-8e16-08c38415ded6",
   "metadata": {},
   "outputs": [],
   "source": []
  },
  {
   "cell_type": "code",
   "execution_count": null,
   "id": "24639ef1-00ba-4b9d-b26c-cc28983299cf",
   "metadata": {},
   "outputs": [],
   "source": []
  },
  {
   "cell_type": "code",
   "execution_count": null,
   "id": "cd47b3ba-1f59-4efd-9983-72835101adef",
   "metadata": {},
   "outputs": [],
   "source": []
  },
  {
   "cell_type": "markdown",
   "id": "425810e5-32ba-47d7-96d4-d478499e58c6",
   "metadata": {},
   "source": [
    "### Q. 16 Look at the number of observations in this dataset per year. What do you notice?"
   ]
  },
  {
   "cell_type": "code",
   "execution_count": null,
   "id": "e0a76129-3aaa-471f-ae2d-daad252eda5e",
   "metadata": {},
   "outputs": [],
   "source": []
  }
 ],
 "metadata": {
  "kernelspec": {
   "display_name": "Python [conda env:base] *",
   "language": "python",
   "name": "conda-base-py"
  },
  "language_info": {
   "codemirror_mode": {
    "name": "ipython",
    "version": 3
   },
   "file_extension": ".py",
   "mimetype": "text/x-python",
   "name": "python",
   "nbconvert_exporter": "python",
   "pygments_lexer": "ipython3",
   "version": "3.13.5"
  }
 },
 "nbformat": 4,
 "nbformat_minor": 5
}
